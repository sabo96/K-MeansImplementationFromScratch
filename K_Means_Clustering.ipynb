{
  "nbformat": 4,
  "nbformat_minor": 0,
  "metadata": {
    "colab": {
      "provenance": [],
      "authorship_tag": "ABX9TyNjLN9AwZysze8YOAFfL8A9",
      "include_colab_link": true
    },
    "kernelspec": {
      "name": "python3",
      "display_name": "Python 3"
    },
    "language_info": {
      "name": "python"
    }
  },
  "cells": [
    {
      "cell_type": "markdown",
      "metadata": {
        "id": "view-in-github",
        "colab_type": "text"
      },
      "source": [
        "<a href=\"https://colab.research.google.com/github/sabo96/K-MeansImplementationFromScratch/blob/main/K_Means_Clustering.ipynb\" target=\"_parent\"><img src=\"https://colab.research.google.com/assets/colab-badge.svg\" alt=\"Open In Colab\"/></a>"
      ]
    },
    {
      "cell_type": "markdown",
      "source": [
        "# *K-Means Clustering*"
      ],
      "metadata": {
        "id": "teBdvOVgi1vd"
      }
    },
    {
      "cell_type": "markdown",
      "source": [
        "# **Task 1 - Preparing Datasets and Practical Application**"
      ],
      "metadata": {
        "id": "-zpE1dCfjVCd"
      }
    },
    {
      "cell_type": "markdown",
      "source": [
        "### Selecting Small Dataset"
      ],
      "metadata": {
        "id": "t9-4qR9SjWT1"
      }
    },
    {
      "cell_type": "code",
      "source": [
        "# importing relevant packaged\n",
        "import pandas as pd\n",
        "import numpy as np\n",
        "import matplotlib.pyplot as plt\n",
        "import seaborn as sns\n",
        "%matplotlib inline\n",
        "from sklearn.datasets import load_iris"
      ],
      "metadata": {
        "id": "PsHssfs0i9u_"
      },
      "execution_count": 1,
      "outputs": []
    },
    {
      "cell_type": "code",
      "source": [
        "small_dataset = pd.DataFrame()\n",
        "small_dataset['X'] = [1, 6, 2, -1, 5, -2]\n",
        "small_dataset['Y'] = [2, 8, 4, -3, 7, 4]"
      ],
      "metadata": {
        "id": "zlhLAnkli_Qc"
      },
      "execution_count": 2,
      "outputs": []
    },
    {
      "cell_type": "markdown",
      "source": [
        "I am confident that the small dataset I have chosen for practical k-means clustering is suitable for\n",
        "2 reasons:\n",
        "- it is entirely numerical in nature, which is a necessary feature for k-means clustering, as we\n",
        "cannot work with non-numerical values such as categorical data\n",
        "- the data points are of a similar scale and do not have a wide range - datasets with wider\n",
        "ranges are inappropriate for k-means clustering\n",
        "- there is an obvious clustering of points which allows for straightforward sanity checks later"
      ],
      "metadata": {
        "id": "gt9YnGFOjBYF"
      }
    },
    {
      "cell_type": "code",
      "source": [
        "sns.scatterplot(x=\"X\", y=\"Y\", data=small_dataset)\n",
        "plt.show()"
      ],
      "metadata": {
        "colab": {
          "base_uri": "https://localhost:8080/",
          "height": 449
        },
        "id": "VS3_NP0MkrA8",
        "outputId": "18850f46-6e97-4b57-f2cf-10de90445d36"
      },
      "execution_count": 3,
      "outputs": [
        {
          "output_type": "display_data",
          "data": {
            "text/plain": [
              "<Figure size 640x480 with 1 Axes>"
            ],
            "image/png": "[encoded data removed]"
          },
          "metadata": {}
        }
      ]
    },
    {
      "cell_type": "markdown",
      "source": [
        "### Practical Application and Sanity Checks"
      ],
      "metadata": {
        "id": "KFqMlczbmusE"
      }
    },
    {
      "cell_type": "markdown",
      "source": [
        "We can apply a practical application of K-means clustering on paper using the Euclidean distance to classify points and calculate centroids and clusters until the maximum number of iterations is reached (and the clusters do not change). As a student project, this was calculated on paper outside of this notebook."
      ],
      "metadata": {
        "id": "gvGiagewlEtT"
      }
    },
    {
      "cell_type": "code",
      "source": [
        "small_dataset['classification'] = [0, 1, 0, 0, 1, 0] # classifications based on practical calculations on paper\n",
        "sns.scatterplot(x=\"X\", y=\"Y\", data=small_dataset, hue=\"classification\")\n",
        "plt.show()"
      ],
      "metadata": {
        "colab": {
          "base_uri": "https://localhost:8080/",
          "height": 449
        },
        "id": "But11vGIkl40",
        "outputId": "58fa3613-980b-4fe6-94c4-8dc961a51d59"
      },
      "execution_count": 4,
      "outputs": [
        {
          "output_type": "display_data",
          "data": {
            "text/plain": [
              "<Figure size 640x480 with 1 Axes>"
            ],
            "image/png": "[encoded data removed]"
          },
          "metadata": {}
        }
      ]
    },
    {
      "cell_type": "markdown",
      "source": [
        "We can tell that the practical application has been successful. By visually examining the plot, we\n",
        "can see that the two clusters are separated in a logical manner and thus, the classification makes\n",
        "sense - we can say that the practical algorithm we have used has passed sanity checking in this\n",
        "case."
      ],
      "metadata": {
        "id": "446IDYkemcas"
      }
    },
    {
      "cell_type": "markdown",
      "source": [
        "### Selecting Large Dataset"
      ],
      "metadata": {
        "id": "f8kUBnvJjFxl"
      }
    },
    {
      "cell_type": "markdown",
      "source": [
        "For my large dataset, I have chosen to use the first 2 features of the Iris dataset; sepal length and sepal width (in cm)."
      ],
      "metadata": {
        "id": "W1XZ9kyKjgnV"
      }
    },
    {
      "cell_type": "code",
      "source": [
        "iris1 = load_iris()\n",
        "iris = pd.DataFrame(iris1['data'], columns=iris1['feature_names'])\n",
        "iris2d = iris[['sepal length (cm)','sepal width (cm)']].to_numpy()"
      ],
      "metadata": {
        "id": "zGBhJnHAjKGt"
      },
      "execution_count": 5,
      "outputs": []
    },
    {
      "cell_type": "code",
      "source": [
        "iris2d[:5] # printing first 5 values of sepal length and width"
      ],
      "metadata": {
        "colab": {
          "base_uri": "https://localhost:8080/"
        },
        "id": "ucdUfhr2jbnF",
        "outputId": "ad41945f-e482-41f5-d3f3-7719d1f4bfa3"
      },
      "execution_count": 6,
      "outputs": [
        {
          "output_type": "execute_result",
          "data": {
            "text/plain": [
              "array([[5.1, 3.5],\n",
              "       [4.9, 3. ],\n",
              "       [4.7, 3.2],\n",
              "       [4.6, 3.1],\n",
              "       [5. , 3.6]])"
            ]
          },
          "metadata": {},
          "execution_count": 6
        }
      ]
    },
    {
      "cell_type": "markdown",
      "source": [
        "# **Task 2:  Creating a Test Harness**"
      ],
      "metadata": {
        "id": "5LUY9At8m36c"
      }
    },
    {
      "cell_type": "markdown",
      "source": [
        "We can compare the outputs of our implementation to a reference implementation, which in this case will be the KMeans module from sklearn."
      ],
      "metadata": {
        "id": "DXa71cvEm9fd"
      }
    },
    {
      "cell_type": "code",
      "source": [
        "from sklearn.cluster import KMeans\n",
        "sk_kmeans = KMeans(n_clusters=3, n_init=10)\n",
        "sk_kmeans.fit(iris2d)\n",
        "label = sk_kmeans.fit_predict(iris2d)"
      ],
      "metadata": {
        "id": "avHwj7kJj3QB"
      },
      "execution_count": 54,
      "outputs": []
    },
    {
      "cell_type": "code",
      "source": [
        "sk_labels = np.sort(sk_kmeans.labels_)\n",
        "print('The predicted labels using the sklearn implentation are', sk_labels)\n",
        "print('The final calculated centroids for k=3 clusters using the sklearn implementation on the iris dataset is', sk_kmeans.cluster_centers_)"
      ],
      "metadata": {
        "colab": {
          "base_uri": "https://localhost:8080/"
        },
        "id": "Xzm2n67VnGqg",
        "outputId": "002b059a-82a4-4d7f-8d7f-6e756ba1f299"
      },
      "execution_count": 55,
      "outputs": [
        {
          "output_type": "stream",
          "name": "stdout",
          "text": [
            "The predicted labels using the sklearn implentation are [0 0 0 0 0 0 0 0 0 0 0 0 0 0 0 0 0 0 0 0 0 0 0 0 0 0 0 0 0 0 0 0 0 0 0 0 0\n",
            " 0 0 0 0 0 0 0 0 0 0 1 1 1 1 1 1 1 1 1 1 1 1 1 1 1 1 1 1 1 1 1 1 1 1 1 1 1\n",
            " 1 1 1 1 1 1 1 1 1 1 1 1 1 1 1 1 1 1 1 1 1 1 1 1 1 1 2 2 2 2 2 2 2 2 2 2 2\n",
            " 2 2 2 2 2 2 2 2 2 2 2 2 2 2 2 2 2 2 2 2 2 2 2 2 2 2 2 2 2 2 2 2 2 2 2 2 2\n",
            " 2 2]\n",
            "The final calculated centroids for k=3 clusters using the sklearn implementation on the iris dataset is [[6.81276596 3.07446809]\n",
            " [5.77358491 2.69245283]\n",
            " [5.006      3.428     ]]\n"
          ]
        }
      ]
    },
    {
      "cell_type": "markdown",
      "source": [
        "Using the sklearn kmeans implementation, we can see the predicted labels for each point and the cluster centres. If our implementation has worked correctly, we can assume that these cluster centres will be the same when we print them in our output. Furthermore, we can expect to see a similar clustering when we visualise our output from our own K-means clustering algorithm below.\n",
        "\n"
      ],
      "metadata": {
        "id": "XSp5DrHfnra8"
      }
    },
    {
      "cell_type": "code",
      "source": [
        "final_centroids = sk_kmeans.cluster_centers_\n",
        "test_label0 = iris2d[label == 0]\n",
        "test_label1 = iris2d[label == 1]\n",
        "test_label2 = iris2d[label == 2]\n",
        "plt.scatter(test_label0[:,0] , test_label0[:,1] , color = 'mediumseagreen', marker='x', s=150, linewidths=3)\n",
        "plt.scatter(test_label1[:,0] , test_label1[:,1] , color = 'crimson', marker='x', s=150, linewidths=3)\n",
        "plt.scatter(test_label2[:,0] , test_label2[:,1] , color = 'royalblue', marker='x', s=150, linewidths=3)\n",
        "plt.scatter(final_centroids[:,0], final_centroids[:,1], marker='o', linewidths=5, color = 'indigo', s = 300)\n",
        "plt.xlabel('sepal length (cm)')\n",
        "plt.ylabel('sepal width (cm)')\n",
        "plt.show()\n"
      ],
      "metadata": {
        "colab": {
          "base_uri": "https://localhost:8080/",
          "height": 452
        },
        "id": "OItfuaGGntn8",
        "outputId": "02770bb1-ec84-4758-8ce0-2fa828e63089"
      },
      "execution_count": 56,
      "outputs": [
        {
          "output_type": "display_data",
          "data": {
            "text/plain": [
              "<Figure size 640x480 with 1 Axes>"
            ],
            "image/png": "[encoded data removed]"
          },
          "metadata": {}
        }
      ]
    },
    {
      "cell_type": "markdown",
      "source": [
        "disclaimer: re-run the model until the colours of the clusters match the kmeans implementation below (blue, red, green from left to right)"
      ],
      "metadata": {
        "id": "u2PECnqir4b8"
      }
    },
    {
      "cell_type": "markdown",
      "source": [
        "# **Task 3: Python Implementation from Scratch**"
      ],
      "metadata": {
        "id": "ScOJ7YIYoGzt"
      }
    },
    {
      "cell_type": "markdown",
      "source": [
        "### K-Means Implementation"
      ],
      "metadata": {
        "id": "LpVVWWGo7XT1"
      }
    },
    {
      "cell_type": "code",
      "source": [
        "# defining set of functions as a class 'K_means'\n",
        "class K_Means:\n",
        "    # initialising attributes of the class KMeans\n",
        "    def __init__(self, k=3, max_iterations=200, tolerance=0.0001):\n",
        "        # k is manually set to 3 here\n",
        "        self.k = k\n",
        "        # sets maximum number of iterations at 200, but unlikely to take more than 10-50 iterations\n",
        "        self.max_iterations = max_iterations\n",
        "        # the tolerance is the difference between the sum of squared errors of 2 successive iterations - set as 0.0001\n",
        "        self.tolerance = tolerance\n",
        "\n",
        "    # defining fit function for K-Means clustering\n",
        "    def fit(self, data):\n",
        "        self.centroids = {}\n",
        "        for i in range(self.k):\n",
        "            self.centroids[i] = data[i]\n",
        "\n",
        "        for i in range(self.max_iterations):\n",
        "            # sets up an empty dictionary for clusters\n",
        "            self.clusters = {}\n",
        "            for i in range(self.k):\n",
        "                self.clusters[i] = []\n",
        "\n",
        "            labels_list = []\n",
        "\n",
        "            for labels in data:\n",
        "                # calculates the Euclidean distance between each point and each centroid, assigns classification using the minimum distance calculated\n",
        "                euclidean_distance = [np.linalg.norm(labels - self.centroids[centroid]) for centroid in self.centroids] # numpy linalg.norm calculates L2 norm as the Euclidean distance\n",
        "                classification = euclidean_distance.index(min(euclidean_distance))\n",
        "                # updates classification for each point\n",
        "                labels_list.append(classification)\n",
        "                self.clusters[classification].append(labels)\n",
        "\n",
        "            self.labels = labels_list\n",
        "            # saves the centroids used in this iteration as a dictionary\n",
        "            oldcentroids = dict(self.centroids)\n",
        "\n",
        "            # updates new centroids using the average of data points in each new cluster\n",
        "            for classification in self.clusters:\n",
        "                self.centroids[classification] = np.average(self.clusters[classification], axis=0)\n",
        "\n",
        "            optimized = True\n",
        "            # sets cutoff if the percentage change in distance between old and new centroid is greater than tolerance\n",
        "            for c in self.centroids:\n",
        "                previouscentroid = oldcentroids[c]\n",
        "                currentcentroid = self.centroids[c]\n",
        "                zero_indices = np.where(np.isclose(previouscentroid, 0))\n",
        "                if len(zero_indices[0]) == 0:\n",
        "                  percentage_change = np.sum((currentcentroid - previouscentroid) / previouscentroid * 100.0)\n",
        "                  if percentage_change > self.tolerance:\n",
        "                    optimized = False\n",
        "\n",
        "                #if np.sum((currentcentroid - previouscentroid) / previouscentroid * 100.0) > self.tolerance:\n",
        "                    #optimized = False\n",
        "\n",
        "            # ends the process if all points have been classified to a cluster containing the closest centroid\n",
        "            if optimized:\n",
        "                break\n",
        "\n",
        "    def get_centroids(self):\n",
        "        return [self.centroids[key] for key in self.centroids.keys()]"
      ],
      "metadata": {
        "id": "ymvprME-oJV-"
      },
      "execution_count": 10,
      "outputs": []
    },
    {
      "cell_type": "code",
      "source": [
        "kmeans = K_Means() # initialise\n",
        "kmeans.fit(iris2d) # fit model"
      ],
      "metadata": {
        "id": "EDJ-Qf0Yp9bw"
      },
      "execution_count": 16,
      "outputs": []
    },
    {
      "cell_type": "code",
      "source": [
        "k_labels = np.sort(np.array(kmeans.labels))\n",
        "print('The predicted labels using my K-means implentation are', k_labels)\n",
        "print('The final calculated centroids for k=3 clusters using my K-means clustering implementation on my large dataset are', kmeans.get_centroids())"
      ],
      "metadata": {
        "colab": {
          "base_uri": "https://localhost:8080/"
        },
        "id": "ATz8S8AAqdrL",
        "outputId": "eb3c9471-3071-4f19-89f2-ba82804f926d"
      },
      "execution_count": 17,
      "outputs": [
        {
          "output_type": "stream",
          "name": "stdout",
          "text": [
            "The predicted labels using my K-means implentation are [0 0 0 0 0 0 0 0 0 0 0 0 0 0 0 0 0 0 0 0 0 0 0 0 0 0 0 0 0 0 0 0 0 0 0 0 0\n",
            " 0 0 0 0 0 0 0 0 0 0 1 1 1 1 1 1 1 1 1 1 1 1 1 1 1 1 1 1 1 1 1 1 1 1 1 1 1\n",
            " 1 1 1 1 1 1 1 1 1 1 1 1 1 1 1 1 1 1 1 1 1 1 1 1 1 1 2 2 2 2 2 2 2 2 2 2 2\n",
            " 2 2 2 2 2 2 2 2 2 2 2 2 2 2 2 2 2 2 2 2 2 2 2 2 2 2 2 2 2 2 2 2 2 2 2 2 2\n",
            " 2 2]\n",
            "The final calculated centroids for k=3 clusters using my K-means clustering implementation on my large dataset are [array([6.81276596, 3.07446809]), array([5.77358491, 2.69245283]), array([5.006, 3.428])]\n"
          ]
        }
      ]
    },
    {
      "cell_type": "markdown",
      "source": [
        "### Runtime and Time Complexity"
      ],
      "metadata": {
        "id": "o16E-8n1vatK"
      }
    },
    {
      "cell_type": "code",
      "source": [
        "from timeit import default_timer as timer"
      ],
      "metadata": {
        "id": "BWNh3aSZvlza"
      },
      "execution_count": 18,
      "outputs": []
    },
    {
      "cell_type": "code",
      "source": [
        "smol = small_dataset.to_numpy()\n",
        "\n",
        "a1 = timer()\n",
        "kmeans2 = K_Means()\n",
        "kmeans2.fit(smol)\n",
        "b1 = timer()\n",
        "time_taken2 = b1-a1\n",
        "print(\"The time taken for my k-means algorithm to run using my small dataset is %.6f\"% time_taken2)"
      ],
      "metadata": {
        "colab": {
          "base_uri": "https://localhost:8080/"
        },
        "id": "p2hlCMSNvZEu",
        "outputId": "e8e56d63-f039-4005-c4ef-b38c14b177e9"
      },
      "execution_count": 19,
      "outputs": [
        {
          "output_type": "stream",
          "name": "stdout",
          "text": [
            "The time taken for my k-means algorithm to run using my small dataset is 0.004122\n"
          ]
        }
      ]
    },
    {
      "cell_type": "code",
      "source": [
        "a = timer()\n",
        "kmeans2 = K_Means()\n",
        "kmeans2.fit(iris2d)\n",
        "b = timer()\n",
        "time_taken = b-a\n",
        "time_taken = round(time_taken, 10)\n",
        "print(\"The time taken for my k-means algorithm to run using the larger Iris dataset is %.6f\"% time_taken)"
      ],
      "metadata": {
        "colab": {
          "base_uri": "https://localhost:8080/"
        },
        "id": "Nwn1gO7gvY7i",
        "outputId": "7cb010f3-f3b8-4b06-c20e-a3eda36d20e8"
      },
      "execution_count": 20,
      "outputs": [
        {
          "output_type": "stream",
          "name": "stdout",
          "text": [
            "The time taken for my k-means algorithm to run using the larger Iris dataset is 0.041198\n"
          ]
        }
      ]
    },
    {
      "cell_type": "markdown",
      "source": [
        "From this rudimentary, primal evaluation, we can see of course that running the model with the smaller dataset is always faster. However, while we can compute the run time manually, running time depends on multiple factors. It makes much more sense to calculate our runtime as a function of inputs and clusters using time complexity. We can calculate the time complexity of our algorithm using Lloyd's algorithm:\n",
        "\n",
        "$time$ $complexity$ = $nki$, where:\n",
        "\n",
        "$n$ = length of data\n",
        "\n",
        "$k$ = number of clusters\n",
        "\n",
        "$i$ = number of iterations\n",
        "\n",
        "\n",
        "We can calculate the maximum time complexity using the maximum number of iterations, which was set to 200."
      ],
      "metadata": {
        "id": "Oh7wu3sdxrvu"
      }
    },
    {
      "cell_type": "code",
      "source": [
        "def timecomplexity(k, data):\n",
        "  n = len(data)\n",
        "  timecomplexity = n*k*200\n",
        "  return timecomplexity"
      ],
      "metadata": {
        "id": "5CSE4_AAymch"
      },
      "execution_count": 21,
      "outputs": []
    },
    {
      "cell_type": "code",
      "source": [
        "print(\"The time complexity for my small dataset is\", timecomplexity(2, smol))"
      ],
      "metadata": {
        "colab": {
          "base_uri": "https://localhost:8080/"
        },
        "id": "i8qlHWl5ymkA",
        "outputId": "00a6c480-3300-48b4-d3d4-b4f10aa2b01b"
      },
      "execution_count": 22,
      "outputs": [
        {
          "output_type": "stream",
          "name": "stdout",
          "text": [
            "The time complexity for my small dataset is 2400\n"
          ]
        }
      ]
    },
    {
      "cell_type": "code",
      "source": [
        "print(\"The time complexity for my large dataset is\", timecomplexity(3, iris2d))"
      ],
      "metadata": {
        "colab": {
          "base_uri": "https://localhost:8080/"
        },
        "id": "zNCI5u5wyme4",
        "outputId": "6cca812a-258f-4a34-e268-f4c027ff601c"
      },
      "execution_count": 23,
      "outputs": [
        {
          "output_type": "stream",
          "name": "stdout",
          "text": [
            "The time complexity for my large dataset is 90000\n"
          ]
        }
      ]
    },
    {
      "cell_type": "markdown",
      "source": [
        "# **Task 4: Visualisation and Evaluation**"
      ],
      "metadata": {
        "id": "245ZoOcQzUPa"
      }
    },
    {
      "cell_type": "markdown",
      "source": [
        "### Data Visualisation"
      ],
      "metadata": {
        "id": "ZV9yBZ9E7Sv8"
      }
    },
    {
      "cell_type": "markdown",
      "source": [
        "To further understand our implementation, we can also code functions which visualise our data in a scatter plot and colour-codes the clusters accordingly. This plot can be compared to the plot we retrieved earlier using the sklearn module. We can also visualise the k-centroids used to determine the classifications within the clusters."
      ],
      "metadata": {
        "id": "W5VY7IEJ679Q"
      }
    },
    {
      "cell_type": "code",
      "source": [
        "colors = ['mediumseagreen', 'crimson', 'royalblue', 'firebrick', 'black']\n",
        "\n",
        "for classification in kmeans.clusters:\n",
        "    color = colors[classification]\n",
        "    for labels in kmeans.clusters[classification]:\n",
        "        plt.scatter(labels[0], labels[1], marker='x', color=color, s=150, linewidths=3)\n",
        "\n",
        "for centroid in kmeans.centroids:\n",
        "    plt.scatter(kmeans.centroids[centroid][0], kmeans.centroids[centroid][1], marker='o', color='indigo', s=300, linewidths=3)\n",
        "\n",
        "plt.xlabel('sepal length (cm)')\n",
        "plt.ylabel('sepal width (cm)')\n",
        "plt.show()\n"
      ],
      "metadata": {
        "colab": {
          "base_uri": "https://localhost:8080/",
          "height": 452
        },
        "id": "eW_lqtr2ymmp",
        "outputId": "ccd1e03e-60f4-40db-e6d7-03e89df865da"
      },
      "execution_count": 24,
      "outputs": [
        {
          "output_type": "display_data",
          "data": {
            "text/plain": [
              "<Figure size 640x480 with 1 Axes>"
            ],
            "image/png": "[encoded data removed]"
          },
          "metadata": {}
        }
      ]
    },
    {
      "cell_type": "markdown",
      "source": [
        "The plot shows we have 3 distinct clusters with appropriately placed cluster centres. The data points are colour-coded for easier visualisation with the x and y axes labelled according to the features of our large dataset. Additionally, the plot is identical to the plot we obtained from the sklearn implementation and as such, we can assume that both our implementation and the\n",
        "visualisation is working correctly."
      ],
      "metadata": {
        "id": "a4P83ctmpybE"
      }
    },
    {
      "cell_type": "markdown",
      "source": [
        "### Evaluation"
      ],
      "metadata": {
        "id": "UsSBFNUEqsOL"
      }
    },
    {
      "cell_type": "markdown",
      "source": [
        "Remember - the sklearns implementation assigns the initial labels randomly - this is why we need to ensure the colours of the clusters in the maps are the same colour by rerunning the sklearn model multiple times to ensure the evaluation is accurate/representative."
      ],
      "metadata": {
        "id": "afqL5M_EqvDL"
      }
    },
    {
      "cell_type": "code",
      "source": [
        "def accuracy(reference_data, model_data):\n",
        "  correct = 0\n",
        "  for i in range(len(reference_data)):\n",
        "    if reference_data[i] == model_data[i]:\n",
        "      correct += 1\n",
        "  return correct / float(len(reference_data)) * 100.00"
      ],
      "metadata": {
        "id": "0u4e_WfYqE6s"
      },
      "execution_count": 57,
      "outputs": []
    },
    {
      "cell_type": "code",
      "source": [
        "print(\"The accuracy of my k-means clustering algorithm compared to the sklearn module is %2.f\"% accuracy(sk_labels, k_labels),\"%\")"
      ],
      "metadata": {
        "colab": {
          "base_uri": "https://localhost:8080/"
        },
        "id": "w_xx5tBQqOsL",
        "outputId": "41fc5de4-147e-46ed-802b-442ca38cb670"
      },
      "execution_count": 58,
      "outputs": [
        {
          "output_type": "stream",
          "name": "stdout",
          "text": [
            "The accuracy of my k-means clustering algorithm compared to the sklearn module is 100 %\n"
          ]
        }
      ]
    }
  ]
}